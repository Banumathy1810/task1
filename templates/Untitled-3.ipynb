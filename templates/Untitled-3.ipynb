{
 "cells": [
  {
   "cell_type": "code",
   "execution_count": null,
   "metadata": {},
   "outputs": [
    {
     "data": {
      "application/vnd.jupyter.widget-view+json": {
       "model_id": "2ef85cd166474211b588523a35c251d6",
       "version_major": 2,
       "version_minor": 0
      },
      "text/plain": [
       "interactive(children=(Dropdown(description='Qubit type:', options=('Single spin',), value='Single spin'), Floa…"
      ]
     },
     "metadata": {},
     "output_type": "display_data"
    },
    {
     "data": {
      "text/plain": [
       "<function __main__.qubit_dynamics(qubit_type, delta, beta, t1, tf)>"
      ]
     },
     "execution_count": 3,
     "metadata": {},
     "output_type": "execute_result"
    }
   ],
   "source": [
    "import numpy as np\n",
    "import matplotlib.pyplot as plt\n",
    "import qutip as qt\n",
    "from ipywidgets import interact, FloatSlider\n",
    "from ipywidgets import Dropdown\n",
    "\n",
    "\n",
    "# Define the Pauli matrices\n",
    "sigma_x = qt.sigmax()\n",
    "sigma_z = qt.sigmaz()\n",
    "\n",
    "# Function to perform time evolution and plot results\n",
    "def qubit_dynamics(qubit_type,delta, beta, t1, tf):\n",
    "    if qubit_type == 'Single spin':\n",
    "    # Define the Hamiltonians\n",
    "       H_system = delta * sigma_z\n",
    "       H_environment = beta * sigma_x\n",
    "       H = H_system + H_environment\n",
    "\n",
    "     # Initial state (|0>)\n",
    "       psi0 = qt.basis(2, 0)\n",
    "\n",
    "    # Time points\n",
    "       tlist = np.linspace(t1, tf, 100)\n",
    "\n",
    "    # Solve the Schrödinger equation\n",
    "       result = qt.mesolve(H, psi0, tlist, [], [sigma_z])\n",
    "\n",
    "    # Plot the expectation value of sigma_z\n",
    "       plt.plot(tlist, result.expect[0], label=r'$\\langle \\sigma_z \\rangle$')\n",
    "       plt.xlabel('Time')\n",
    "       plt.ylabel('Expectation value')\n",
    "       plt.title('Qubit Dynamics')\n",
    "       plt.legend()\n",
    "       plt.grid()\n",
    "       plt.show()\n",
    "\n",
    "# Create interactive widget\n",
    "interact(qubit_dynamics,\n",
    "         qubit_type=Dropdown(options=['Single spin'], description='Qubit type:'),\n",
    "         delta=FloatSlider(value=1.0, min=0.1, max=10.0, step=0.1, description='Delta:'),\n",
    "         beta=FloatSlider(value=0.5, min=0.1, max=5.0, step=0.1, description='Beta:'),\n",
    "         t1=FloatSlider(value=0.0, min=0.0, max=10.0, step=0.1, description='t1:'),\n",
    "         tf=FloatSlider(value=10.0, min=1.0, max=20.0, step=0.1, description='tf:'))"
   ]
  }
 ],
 "metadata": {
  "kernelspec": {
   "display_name": ".venv",
   "language": "python",
   "name": "python3"
  },
  "language_info": {
   "codemirror_mode": {
    "name": "ipython",
    "version": 3
   },
   "file_extension": ".py",
   "mimetype": "text/x-python",
   "name": "python",
   "nbconvert_exporter": "python",
   "pygments_lexer": "ipython3",
   "version": "3.9.6"
  }
 },
 "nbformat": 4,
 "nbformat_minor": 2
}
