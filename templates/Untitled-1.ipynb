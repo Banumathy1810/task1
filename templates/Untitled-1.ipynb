{
 "cells": [
  {
   "cell_type": "code",
   "execution_count": 3,
   "metadata": {},
   "outputs": [
    {
     "name": "stdout",
     "output_type": "stream",
     "text": [
      "app.py saved successfully!\n"
     ]
    }
   ],
   "source": [
    "flask_code = \"\"\"from flask import Flask, render_template, request, send_file\n",
    "import qutip as qt\n",
    "import matplotlib.pyplot as plt\n",
    "import io\n",
    "\n",
    "app = Flask(__name__)\n",
    "\n",
    "@app.route(\"/\")\n",
    "def home():\n",
    "    return render_template(\"index.html\")\n",
    "\n",
    "@app.route('/generate_circuit', methods=['POST'])\n",
    "def generate_circuit():\n",
    "    data = request.json\n",
    "    qubit_number = int(data['qubitNumber'])\n",
    "    layers = data['layers']\n",
    "\n",
    "    # Initialize quantum circuit\n",
    "    circuit = qt.Qobj(qt.qeye([2] * qubit_number))\n",
    "\n",
    "    for layer in layers:\n",
    "        gate = layer['gate']\n",
    "        qubits = list(map(int, layer['qubit'].split(',')))\n",
    "\n",
    "        if gate == 'X':\n",
    "            op = qt.sigmax()\n",
    "        elif gate == 'Y':\n",
    "            op = qt.sigmay()\n",
    "        elif gate == 'Z':\n",
    "            op = qt.sigmaz()\n",
    "        elif gate == 'H':\n",
    "            op = qt.hadamard_transform()\n",
    "        elif gate == 'CNOT':\n",
    "            op = qt.cnot(N=qubit_number, control=qubits[0], target=qubits[1])\n",
    "            circuit = op * circuit\n",
    "            continue\n",
    "\n",
    "        for qubit in qubits:\n",
    "            op_list = [qt.qeye(2)] * qubit_number\n",
    "            op_list[qubit - 1] = op\n",
    "            op_full = qt.tensor(op_list)\n",
    "            circuit = op_full * circuit\n",
    "\n",
    "    # Plot the circuit\n",
    "    fig, ax = plt.subplots()\n",
    "    qt.matrix_histogram_complex(circuit)\n",
    "    buf = io.BytesIO()\n",
    "    plt.savefig(buf, format='jpg')\n",
    "    buf.seek(0)\n",
    "    plt.close()\n",
    "\n",
    "    return send_file(buf, mimetype='image/jpeg')\n",
    "\n",
    "if __name__ == '__main__':\n",
    "    app.run(debug=True)\n",
    "\"\"\"\n",
    "\n",
    "# Save the file\n",
    "with open(\"app.py\", \"w\") as f:\n",
    "    f.write(flask_code)\n",
    "\n",
    "print(\"app.py saved successfully!\")\n",
    "\n"
   ]
  }
 ],
 "metadata": {
  "kernelspec": {
   "display_name": "Python (.venv)",
   "language": "python",
   "name": ".venv"
  },
  "language_info": {
   "codemirror_mode": {
    "name": "ipython",
    "version": 3
   },
   "file_extension": ".py",
   "mimetype": "text/x-python",
   "name": "python",
   "nbconvert_exporter": "python",
   "pygments_lexer": "ipython3",
   "version": "3.9.6"
  }
 },
 "nbformat": 4,
 "nbformat_minor": 2
}
