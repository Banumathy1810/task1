{
 "cells": [
  {
   "cell_type": "code",
   "execution_count": 1,
   "metadata": {},
   "outputs": [
    {
     "data": {
      "application/vnd.jupyter.widget-view+json": {
       "model_id": "5a8bb3816d224d31ba8d787a20532421",
       "version_major": 2,
       "version_minor": 0
      },
      "text/plain": [
       "interactive(children=(Dropdown(description='Qubit type:', options=('Single spin',), value='Single spin'), Floa…"
      ]
     },
     "metadata": {},
     "output_type": "display_data"
    }
   ],
   "source": [
    "#MASTER EQUATION SOLVER\n",
    "#FIRST lets import all the necessary libraries that are needed for our desired output\n",
    "import numpy as np\n",
    "import matplotlib.pyplot as plt\n",
    "import matplotlib.animation as animation\n",
    "import qutip as qt\n",
    "from ipywidgets import interact, FloatSlider, Dropdown\n",
    "\n",
    "# for interacting plotting,we beed this\"ipympl library\"\n",
    "%matplotlib ipympl\n",
    "\n",
    "\n",
    "sigma_x = qt.sigmax()\n",
    "sigma_z = qt.sigmaz()\n",
    "\n",
    "#Its a Global variable whose role is to retain the animation object\n",
    "ani = None\n",
    "\n",
    "def qubit_dynamics(qubit_type, delta, beta, t1, tf):\n",
    "    global ani\n",
    "\n",
    "    if qubit_type == 'Single spin':#it makes a drop down,when only spin down will be given as option\n",
    "        # Here,we Define Hamiltonians for system and environment\n",
    "        H_system = delta * sigma_z\n",
    "        H_environment = beta * sigma_x\n",
    "        H = H_system + H_environment\n",
    "\n",
    "       \n",
    "        psi0 = qt.basis(2, 0)\n",
    "\n",
    "       \n",
    "        tlist = np.linspace(t1, tf, 100)\n",
    "\n",
    "        \n",
    "        result = qt.mesolve(H, psi0, tlist, [], [sigma_z])\n",
    "        expect_z = result.expect[0]\n",
    "        #plotting begins here:both static and animated plots\n",
    "        fig, (ax1, ax2) = plt.subplots(1, 2, figsize=(12, 5))\n",
    "\n",
    "        # To make the static plot:The needed axes and labels\n",
    "        ax1.plot(tlist, expect_z, label=r'$\\langle \\sigma_z \\rangle$', color='orange')\n",
    "        ax1.set_xlabel('Time(t)')\n",
    "        ax1.set_ylabel('Expectation Value of $\\sigma_z$')\n",
    "        ax1.set_title('Task 2: Qubit Dynamics 0.1')\n",
    "        ax1.legend()\n",
    "        ax1.grid()\n",
    "\n",
    "        # To make the animated plot:The needed axes and labels\n",
    "        ax2.set_xlim(t1, tf)\n",
    "        ax2.set_ylim(min(expect_z)-0.1, max(expect_z)+0.1)\n",
    "        ax2.set_xlabel('Time(t)')\n",
    "        ax2.set_ylabel('Expectation Value of $\\sigma_z$')\n",
    "        ax2.set_title('Optional Task: Qubit Dynamics(animated)')\n",
    "        line, = ax2.plot([], [], lw=2, color='purple', label=r'$\\langle \\sigma_z \\rangle$')\n",
    "        ax2.legend()\n",
    "        ax2.grid()\n",
    "\n",
    "        #To animate,we define here two functions as follows:\n",
    "        def init():\n",
    "            line.set_data([], [])\n",
    "            return (line,)\n",
    "\n",
    "        def update(frame):\n",
    "            line.set_data(tlist[:frame], expect_z[:frame])\n",
    "            return (line,)\n",
    "\n",
    "        #Animation:\n",
    "        ani = animation.FuncAnimation(fig, update, frames=len(tlist),\n",
    "                                      init_func=init, blit=True, interval=50)\n",
    "        \n",
    "        plt.tight_layout()\n",
    "        plt.show()\n",
    "        return ani\n",
    "\n",
    "# Interactive user inputs using \"interact funcion\" which we define here:\n",
    "interact(\n",
    "    qubit_dynamics,\n",
    "    qubit_type=Dropdown(options=['Single spin'], value='Single spin', description='Qubit type:'),\n",
    "    delta=FloatSlider(value=1.0, min=0.1, max=10.0, step=0.1, description='Delta:'),\n",
    "    beta=FloatSlider(value=0.5, min=0.1, max=5.0, step=0.1, description='Beta:'),\n",
    "    t1=FloatSlider(value=0.0, min=0.0, max=10.0, step=0.1, description='t1:'),\n",
    "    tf=FloatSlider(value=10.0, min=1.0, max=20.0, step=0.1, description='tf:')\n",
    "); "
   ]
  }
 ],
 "metadata": {
  "kernelspec": {
   "display_name": ".venv",
   "language": "python",
   "name": "python3"
  },
  "language_info": {
   "codemirror_mode": {
    "name": "ipython",
    "version": 3
   },
   "file_extension": ".py",
   "mimetype": "text/x-python",
   "name": "python",
   "nbconvert_exporter": "python",
   "pygments_lexer": "ipython3",
   "version": "3.9.6"
  }
 },
 "nbformat": 4,
 "nbformat_minor": 2
}
