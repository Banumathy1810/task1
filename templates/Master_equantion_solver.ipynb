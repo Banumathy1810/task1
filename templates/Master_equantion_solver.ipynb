{
 "cells": [
  {
   "cell_type": "code",
   "execution_count": null,
   "metadata": {},
   "outputs": [
    {
     "data": {
      "application/vnd.jupyter.widget-view+json": {
       "model_id": "2945b0d4d55b42f7b597ca75989ae1cb",
       "version_major": 2,
       "version_minor": 0
      },
      "text/plain": [
       "interactive(children=(Dropdown(description='Qubit Type:', options=('Single spin',), value='Single spin'), Floa…"
      ]
     },
     "metadata": {},
     "output_type": "display_data"
    }
   ],
   "source": [
    "#I have followed the reference code that u have shared and learnt to make animation and did this.\n",
    "import numpy as np\n",
    "import matplotlib.pyplot as plt\n",
    "import matplotlib.animation as animation\n",
    "import qutip as qt\n",
    "from ipywidgets import interact, FloatSlider, Dropdown\n",
    "\n",
    "%matplotlib ipympl  \n",
    "\n",
    "SIGMA_X = qt.sigmax()\n",
    "SIGMA_Z = qt.sigmaz()\n",
    "\n",
    "# Nothing just a global variable to not loose the track\n",
    "active_animation = None  \n",
    "\n",
    "\n",
    "def simulate_spin_dynamics(qubit_type, delta, beta, t_start, t_end):\n",
    "    global active_animation\n",
    "\n",
    "    if qubit_type != 'Single spin':\n",
    "        raise ValueError(f\"Sorry, only 'Single spin' is supported for now. You entered: {qubit_type}\")\n",
    "\n",
    "    # It would cause an issue if this is not done:\n",
    "    if t_end <= t_start:\n",
    "        raise ValueError(\"End time must be greater than start time!\")\n",
    "\n",
    "    # ALL THE I HAVE DONE:Hamiltonian breakdown:\n",
    "    # delta -> energy splitting along Z\n",
    "    # beta -> transverse field causing flips (X direction)\n",
    "    h_static = delta * SIGMA_Z  \n",
    "    h_noise = beta * SIGMA_X    \n",
    "    h_total = h_static + h_noise\n",
    "    initial_state = qt.basis(2, 0)\n",
    "    times = np.linspace(t_start, t_end, 300)\n",
    "\n",
    "    # Using the master equation solver of QUTIP \n",
    "    result = qt.mesolve(h_total, initial_state, times, [], [SIGMA_Z])\n",
    "    sigma_z_expect = result.expect[0]\n",
    "\n",
    "    # Plotting here:\n",
    "    fig, (ax_static, ax_anim) = plt.subplots(1, 2, figsize=(15, 6))\n",
    "\n",
    "    # Static PLOT\n",
    "    ax_static.plot(times, sigma_z_expect, label=r'$\\langle \\sigma_z \\rangle$', color='darkred')\n",
    "    ax_static.set_xlabel('Time (t)')\n",
    "    ax_static.set_ylabel('Expectation $\\sigma_z$')\n",
    "    ax_static.set_title('📊 Static Qubit Evolution')\n",
    "    ax_static.legend()\n",
    "    ax_static.grid(True)\n",
    "\n",
    "    # Animation PLOT\n",
    "    ax_anim.set_xlim(t_start, t_end)\n",
    "    ax_anim.set_ylim(np.min(sigma_z_expect) - 0.1, np.max(sigma_z_expect) + 0.1)\n",
    "    ax_anim.set_xlabel('Time (t)')\n",
    "    ax_anim.set_ylabel('Expectation $\\sigma_z$')\n",
    "    ax_anim.set_title('🎬 Live Evolution Animation')\n",
    "    anim_line, = ax_anim.plot([], [], lw=2, color='navy', label=r'$\\langle \\sigma_z \\rangle$')\n",
    "    ax_anim.legend()\n",
    "    ax_anim.grid(True)\n",
    "\n",
    "    def init_anim():\n",
    "        anim_line.set_data([], [])\n",
    "        return anim_line,\n",
    "\n",
    "    def update_anim(frame):\n",
    "        anim_line.set_data(times[:frame], sigma_z_expect[:frame])\n",
    "        return anim_line,\n",
    "\n",
    "    \n",
    "    print(\"🚀 Starting the animation... \")\n",
    "\n",
    "    active_animation = animation.FuncAnimation(\n",
    "        fig, update_anim, frames=len(times),\n",
    "        init_func=init_anim, blit=True, interval=30\n",
    "    )\n",
    "\n",
    "    plt.tight_layout()\n",
    "    plt.show()\n",
    "\n",
    "    return active_animation\n",
    "\n",
    "\n",
    "# hERE WE USE THIS to make interactive inputs.\n",
    "interact(\n",
    "    simulate_spin_dynamics,\n",
    "    qubit_type=Dropdown(options=['Single spin'], value='Single spin', description='Qubit Type:'),\n",
    "    delta=FloatSlider(value=1.0, min=0.1, max=10.0, step=0.1, description='Δ (Delta):'),\n",
    "    beta=FloatSlider(value=0.5, min=0.0, max=5.0, step=0.1, description='β (Beta):'),\n",
    "    t_start=FloatSlider(value=0.0, min=0.0, max=10.0, step=0.1, description='Start Time:'),\n",
    "    t_end=FloatSlider(value=10.0, min=1.0, max=20.0, step=0.1, description='End Time:')\n",
    ");\n"
   ]
  }
 ],
 "metadata": {
  "kernelspec": {
   "display_name": ".venv",
   "language": "python",
   "name": "python3"
  },
  "language_info": {
   "codemirror_mode": {
    "name": "ipython",
    "version": 3
   },
   "file_extension": ".py",
   "mimetype": "text/x-python",
   "name": "python",
   "nbconvert_exporter": "python",
   "pygments_lexer": "ipython3",
   "version": "3.9.6"
  }
 },
 "nbformat": 4,
 "nbformat_minor": 2
}
